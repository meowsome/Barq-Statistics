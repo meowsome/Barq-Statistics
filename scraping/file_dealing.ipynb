{
 "cells": [
  {
   "cell_type": "code",
   "execution_count": 1,
   "metadata": {},
   "outputs": [],
   "source": [
    "import json\n",
    "from tqdm import tqdm"
   ]
  },
  {
   "cell_type": "code",
   "execution_count": 4,
   "metadata": {},
   "outputs": [
    {
     "name": "stderr",
     "output_type": "stream",
     "text": [
      "100%|██████████| 17/17 [00:20<00:00,  1.21s/it]\n"
     ]
    }
   ],
   "source": [
    "# Merge all json files thus far\n",
    "\n",
    "merged_profiles = []\n",
    "\n",
    "nums = list(range(17))\n",
    "for num in tqdm(nums):\n",
    "    with open(f'data/all_detailed_profiles{num}.json', 'r') as file:\n",
    "        response = file.read()\n",
    "        profiles = json.loads(response)\n",
    "\n",
    "        profiles = list(filter(None, profiles))\n",
    "        merged_profiles += profiles\n",
    "\n",
    "with open('data/all_detailed_profiles.json', 'w') as file:\n",
    "    json.dump(merged_profiles, file)"
   ]
  },
  {
   "cell_type": "code",
   "execution_count": null,
   "metadata": {},
   "outputs": [],
   "source": [
    "# Get all_profiles_not_found_yet\n",
    "with open('data/all_detailed_profiles.json', 'r') as file:\n",
    "    response = file.read()\n",
    "    all_detailed_users = json.loads(response)\n",
    "\n",
    "    all_detailed_users = list(filter(None, all_detailed_users))"
   ]
  },
  {
   "cell_type": "code",
   "execution_count": null,
   "metadata": {},
   "outputs": [],
   "source": [
    "all_profiles = []\n",
    "with open('data/all_profiles.json', 'r') as file:\n",
    "    response = file.read()\n",
    "    all_profiles = json.loads(response)\n",
    "\n",
    "    all_profiles = list(filter(None, all_profiles))"
   ]
  },
  {
   "cell_type": "code",
   "execution_count": 10,
   "metadata": {},
   "outputs": [
    {
     "name": "stderr",
     "output_type": "stream",
     "text": [
      "  2%|▏         | 9190/417120 [00:10<08:09, 832.59it/s] "
     ]
    }
   ],
   "source": [
    "found_uuids = [p['uuid'] for p in all_detailed_users]\n",
    "# all_profiles_not_found_yet = tqdm([p for p in all_profiles if p['uuid'] not in found_uuids])\n",
    "all_profiles_not_found_yet = []\n",
    "for p in tqdm(all_profiles):\n",
    "    if p['uuid'] not in found_uuids:\n",
    "        all_profiles_not_found_yet.append(p)\n",
    "\n",
    "with open('data/all_profiles_not_found_yet.json', 'w') as file:\n",
    "    json.dump(all_profiles_not_found_yet, file)"
   ]
  },
  {
   "cell_type": "code",
   "execution_count": null,
   "metadata": {},
   "outputs": [],
   "source": [
    "len(all_profiles_not_found_yet)"
   ]
  },
  {
   "cell_type": "code",
   "execution_count": 6,
   "metadata": {},
   "outputs": [],
   "source": [
    "# Fix invalid files\n",
    "\n",
    "# with open('test.json', 'r') as file:\n",
    "#     response = file.read()\n",
    "#     response = response[1:]\n",
    "\n",
    "#     with open('test2.json', 'w') as file2:\n",
    "#         print(\"[{\" + str(response.split(\"}, null, null, null, null, null, null][{\")[-1]), file=file2)\n",
    "\n",
    "    # for entry in response.split(\"}, {\\\"uuid\"):\n",
    "    #     # entry = \"{\\\"uuid\" + entry + \"}\"\n",
    "    #     # print(entry)\n",
    "    #     try:\n",
    "    #         all_detailed_users = json.loads(entry)\n",
    "    #     except ValueError as e:\n",
    "    #         print(e)\n",
    "    #         with open('err.log', 'w') as file2:\n",
    "    #              print(entry, file=file2)\n",
    "    #         import sys\n",
    "    #         sys.exit()\n",
    "\n",
    "    # df = pd.DataFrame(all_detailed_users)"
   ]
  }
 ],
 "metadata": {
  "kernelspec": {
   "display_name": "Python 3.10.2 64-bit",
   "language": "python",
   "name": "python3"
  },
  "language_info": {
   "codemirror_mode": {
    "name": "ipython",
    "version": 3
   },
   "file_extension": ".py",
   "mimetype": "text/x-python",
   "name": "python",
   "nbconvert_exporter": "python",
   "pygments_lexer": "ipython3",
   "version": "3.10.2"
  },
  "orig_nbformat": 4,
  "vscode": {
   "interpreter": {
    "hash": "8ad3fa100d5b231160bb592fb28f123e01bd704268796a31f9f9d65158a30d39"
   }
  }
 },
 "nbformat": 4,
 "nbformat_minor": 2
}
