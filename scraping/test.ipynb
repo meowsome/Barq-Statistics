{
 "cells": [
  {
   "cell_type": "code",
   "execution_count": 52,
   "metadata": {},
   "outputs": [],
   "source": [
    "import json\n",
    "import pandas as pd\n",
    "from collections import Counter\n"
   ]
  },
  {
   "cell_type": "code",
   "execution_count": 59,
   "metadata": {},
   "outputs": [],
   "source": [
    "\n",
    "\n",
    "with open(f'data/all_detailed_profiles14.json', 'r') as file:\n",
    "    response = file.read()\n",
    "    profiles = json.loads(response)\n",
    "    \n",
    "    profiles = list(filter(None, profiles))"
   ]
  },
  {
   "cell_type": "code",
   "execution_count": 61,
   "metadata": {},
   "outputs": [],
   "source": [
    "df = pd.DataFrame(profiles)"
   ]
  },
  {
   "cell_type": "code",
   "execution_count": 62,
   "metadata": {},
   "outputs": [],
   "source": [
    "location = df['location'].apply(pd.Series)\n",
    "place = location['place'].apply(pd.Series)\n",
    "location.drop('place',axis=1,inplace=True)\n",
    "location[place.columns] = place\n",
    "df[location.columns] = location\n",
    "df.drop('location',axis=1,inplace=True)"
   ]
  },
  {
   "cell_type": "code",
   "execution_count": 63,
   "metadata": {},
   "outputs": [],
   "source": [
    "df = df[df['countryCode'] == 'US']"
   ]
  },
  {
   "cell_type": "code",
   "execution_count": 64,
   "metadata": {},
   "outputs": [],
   "source": [
    "def make_most_common(column, count, recursive):\n",
    "    common_list = []\n",
    "    if recursive:\n",
    "        for items in df[column].dropna().tolist():\n",
    "            if items is not None:\n",
    "                common_list += items\n",
    "    else:\n",
    "        common_list = [item for item in df[column].dropna().tolist() if item is not None]\n",
    "\n",
    "    return Counter(common_list).most_common(count)"
   ]
  },
  {
   "cell_type": "code",
   "execution_count": 65,
   "metadata": {},
   "outputs": [],
   "source": [
    "mc = make_most_common('region', 100, False)"
   ]
  },
  {
   "cell_type": "code",
   "execution_count": 66,
   "metadata": {},
   "outputs": [
    {
     "data": {
      "text/plain": [
       "[('Washington', 274),\n",
       " ('Florida', 219),\n",
       " ('California', 146),\n",
       " ('Texas', 65),\n",
       " ('Nevada', 35),\n",
       " ('Arizona', 30),\n",
       " ('Oregon', 30),\n",
       " ('Utah', 24),\n",
       " ('Colorado', 23),\n",
       " ('Alaska', 21),\n",
       " ('New York', 19),\n",
       " ('Pennsylvania', 18),\n",
       " ('Ohio', 17),\n",
       " ('Georgia', 16),\n",
       " ('Massachusetts', 16),\n",
       " ('Minnesota', 13),\n",
       " ('Missouri', 12),\n",
       " ('North Carolina', 12),\n",
       " ('Michigan', 12),\n",
       " ('Wisconsin', 12),\n",
       " ('South Carolina', 11),\n",
       " ('Idaho', 10),\n",
       " ('Alabama', 9),\n",
       " ('Arkansas', 9),\n",
       " ('Virginia', 9),\n",
       " ('Illinois', 8),\n",
       " ('New Mexico', 8),\n",
       " ('Iowa', 7),\n",
       " ('Louisiana', 6),\n",
       " ('Kentucky', 6),\n",
       " ('Oklahoma', 6),\n",
       " ('New Jersey', 6),\n",
       " ('Maryland', 5),\n",
       " ('Mississippi', 3),\n",
       " ('Tennessee', 3),\n",
       " ('Indiana', 3),\n",
       " ('Montana', 3),\n",
       " ('Maine', 2),\n",
       " ('Kansas', 1),\n",
       " ('West Virginia', 1),\n",
       " ('Nebraska', 1),\n",
       " ('Delaware', 1),\n",
       " ('Hawaii', 1),\n",
       " ('Connecticut', 1),\n",
       " ('North Dakota', 1),\n",
       " ('Rhode Island', 1),\n",
       " ('Vermont', 1)]"
      ]
     },
     "execution_count": 66,
     "metadata": {},
     "output_type": "execute_result"
    }
   ],
   "source": [
    "mc"
   ]
  },
  {
   "cell_type": "code",
   "execution_count": null,
   "metadata": {},
   "outputs": [],
   "source": []
  }
 ],
 "metadata": {
  "kernelspec": {
   "display_name": "Python 3.10.2 64-bit",
   "language": "python",
   "name": "python3"
  },
  "language_info": {
   "codemirror_mode": {
    "name": "ipython",
    "version": 3
   },
   "file_extension": ".py",
   "mimetype": "text/x-python",
   "name": "python",
   "nbconvert_exporter": "python",
   "pygments_lexer": "ipython3",
   "version": "3.10.2"
  },
  "orig_nbformat": 4,
  "vscode": {
   "interpreter": {
    "hash": "8ad3fa100d5b231160bb592fb28f123e01bd704268796a31f9f9d65158a30d39"
   }
  }
 },
 "nbformat": 4,
 "nbformat_minor": 2
}
